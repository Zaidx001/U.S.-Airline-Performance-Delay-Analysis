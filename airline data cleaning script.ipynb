{
  "nbformat": 4,
  "nbformat_minor": 0,
  "metadata": {
    "colab": {
      "provenance": []
    },
    "kernelspec": {
      "name": "python3",
      "display_name": "Python 3"
    },
    "language_info": {
      "name": "python"
    }
  },
  "cells": [
    {
      "cell_type": "code",
      "execution_count": 28,
      "metadata": {
        "id": "-pnDLgEO7wuy"
      },
      "outputs": [],
      "source": [
        "import pandas as pd\n",
        "import numpy as np\n"
      ]
    },
    {
      "cell_type": "code",
      "source": [
        "df = pd.read_csv('/content/flights.csv')\n",
        "airlines = pd.read_csv('/content/airlines.csv')\n",
        "airports = pd.read_csv('/content/airports.csv')\n"
      ],
      "metadata": {
        "colab": {
          "base_uri": "https://localhost:8080/"
        },
        "id": "RX8abgYUBa8m",
        "outputId": "6162aca9-3518-46e3-d7a8-50d5777b0010"
      },
      "execution_count": 29,
      "outputs": [
        {
          "output_type": "stream",
          "name": "stderr",
          "text": [
            "/tmp/ipython-input-4026617578.py:1: DtypeWarning: Columns (7,8) have mixed types. Specify dtype option on import or set low_memory=False.\n",
            "  df = pd.read_csv('/content/flights.csv')\n"
          ]
        }
      ]
    },
    {
      "cell_type": "code",
      "source": [
        "# See top rows and data types\n",
        "print(df.head())\n",
        "print(df.info())\n",
        "print(df.describe())\n"
      ],
      "metadata": {
        "colab": {
          "base_uri": "https://localhost:8080/"
        },
        "id": "o83SIMFSB8rf",
        "outputId": "571d7faa-722d-44cf-bf65-1ebd08d68a5d"
      },
      "execution_count": 30,
      "outputs": [
        {
          "output_type": "stream",
          "name": "stdout",
          "text": [
            "   YEAR  MONTH  DAY  DAY_OF_WEEK AIRLINE  FLIGHT_NUMBER TAIL_NUMBER  \\\n",
            "0  2015      1    1            4      AS             98      N407AS   \n",
            "1  2015      1    1            4      AA           2336      N3KUAA   \n",
            "2  2015      1    1            4      US            840      N171US   \n",
            "3  2015      1    1            4      AA            258      N3HYAA   \n",
            "4  2015      1    1            4      AS            135      N527AS   \n",
            "\n",
            "  ORIGIN_AIRPORT DESTINATION_AIRPORT  SCHEDULED_DEPARTURE  ...  ARRIVAL_TIME  \\\n",
            "0            ANC                 SEA                    5  ...         408.0   \n",
            "1            LAX                 PBI                   10  ...         741.0   \n",
            "2            SFO                 CLT                   20  ...         811.0   \n",
            "3            LAX                 MIA                   20  ...         756.0   \n",
            "4            SEA                 ANC                   25  ...         259.0   \n",
            "\n",
            "   ARRIVAL_DELAY  DIVERTED  CANCELLED  CANCELLATION_REASON  AIR_SYSTEM_DELAY  \\\n",
            "0          -22.0         0          0                  NaN               NaN   \n",
            "1           -9.0         0          0                  NaN               NaN   \n",
            "2            5.0         0          0                  NaN               NaN   \n",
            "3           -9.0         0          0                  NaN               NaN   \n",
            "4          -21.0         0          0                  NaN               NaN   \n",
            "\n",
            "   SECURITY_DELAY  AIRLINE_DELAY  LATE_AIRCRAFT_DELAY  WEATHER_DELAY  \n",
            "0             NaN            NaN                  NaN            NaN  \n",
            "1             NaN            NaN                  NaN            NaN  \n",
            "2             NaN            NaN                  NaN            NaN  \n",
            "3             NaN            NaN                  NaN            NaN  \n",
            "4             NaN            NaN                  NaN            NaN  \n",
            "\n",
            "[5 rows x 31 columns]\n",
            "<class 'pandas.core.frame.DataFrame'>\n",
            "RangeIndex: 5819079 entries, 0 to 5819078\n",
            "Data columns (total 31 columns):\n",
            " #   Column               Dtype  \n",
            "---  ------               -----  \n",
            " 0   YEAR                 int64  \n",
            " 1   MONTH                int64  \n",
            " 2   DAY                  int64  \n",
            " 3   DAY_OF_WEEK          int64  \n",
            " 4   AIRLINE              object \n",
            " 5   FLIGHT_NUMBER        int64  \n",
            " 6   TAIL_NUMBER          object \n",
            " 7   ORIGIN_AIRPORT       object \n",
            " 8   DESTINATION_AIRPORT  object \n",
            " 9   SCHEDULED_DEPARTURE  int64  \n",
            " 10  DEPARTURE_TIME       float64\n",
            " 11  DEPARTURE_DELAY      float64\n",
            " 12  TAXI_OUT             float64\n",
            " 13  WHEELS_OFF           float64\n",
            " 14  SCHEDULED_TIME       float64\n",
            " 15  ELAPSED_TIME         float64\n",
            " 16  AIR_TIME             float64\n",
            " 17  DISTANCE             int64  \n",
            " 18  WHEELS_ON            float64\n",
            " 19  TAXI_IN              float64\n",
            " 20  SCHEDULED_ARRIVAL    int64  \n",
            " 21  ARRIVAL_TIME         float64\n",
            " 22  ARRIVAL_DELAY        float64\n",
            " 23  DIVERTED             int64  \n",
            " 24  CANCELLED            int64  \n",
            " 25  CANCELLATION_REASON  object \n",
            " 26  AIR_SYSTEM_DELAY     float64\n",
            " 27  SECURITY_DELAY       float64\n",
            " 28  AIRLINE_DELAY        float64\n",
            " 29  LATE_AIRCRAFT_DELAY  float64\n",
            " 30  WEATHER_DELAY        float64\n",
            "dtypes: float64(16), int64(10), object(5)\n",
            "memory usage: 1.3+ GB\n",
            "None\n",
            "            YEAR         MONTH           DAY   DAY_OF_WEEK  FLIGHT_NUMBER  \\\n",
            "count  5819079.0  5.819079e+06  5.819079e+06  5.819079e+06   5.819079e+06   \n",
            "mean      2015.0  6.524085e+00  1.570459e+01  3.926941e+00   2.173093e+03   \n",
            "std          0.0  3.405137e+00  8.783425e+00  1.988845e+00   1.757064e+03   \n",
            "min       2015.0  1.000000e+00  1.000000e+00  1.000000e+00   1.000000e+00   \n",
            "25%       2015.0  4.000000e+00  8.000000e+00  2.000000e+00   7.300000e+02   \n",
            "50%       2015.0  7.000000e+00  1.600000e+01  4.000000e+00   1.690000e+03   \n",
            "75%       2015.0  9.000000e+00  2.300000e+01  6.000000e+00   3.230000e+03   \n",
            "max       2015.0  1.200000e+01  3.100000e+01  7.000000e+00   9.855000e+03   \n",
            "\n",
            "       SCHEDULED_DEPARTURE  DEPARTURE_TIME  DEPARTURE_DELAY      TAXI_OUT  \\\n",
            "count         5.819079e+06    5.732926e+06     5.732926e+06  5.730032e+06   \n",
            "mean          1.329602e+03    1.335204e+03     9.370158e+00  1.607166e+01   \n",
            "std           4.837518e+02    4.964233e+02     3.708094e+01  8.895574e+00   \n",
            "min           1.000000e+00    1.000000e+00    -8.200000e+01  1.000000e+00   \n",
            "25%           9.170000e+02    9.210000e+02    -5.000000e+00  1.100000e+01   \n",
            "50%           1.325000e+03    1.330000e+03    -2.000000e+00  1.400000e+01   \n",
            "75%           1.730000e+03    1.740000e+03     7.000000e+00  1.900000e+01   \n",
            "max           2.359000e+03    2.400000e+03     1.988000e+03  2.250000e+02   \n",
            "\n",
            "         WHEELS_OFF  ...  SCHEDULED_ARRIVAL  ARRIVAL_TIME  ARRIVAL_DELAY  \\\n",
            "count  5.730032e+06  ...       5.819079e+06  5.726566e+06   5.714008e+06   \n",
            "mean   1.357171e+03  ...       1.493808e+03  1.476491e+03   4.407057e+00   \n",
            "std    4.980094e+02  ...       5.071647e+02  5.263197e+02   3.927130e+01   \n",
            "min    1.000000e+00  ...       1.000000e+00  1.000000e+00  -8.700000e+01   \n",
            "25%    9.350000e+02  ...       1.110000e+03  1.059000e+03  -1.300000e+01   \n",
            "50%    1.343000e+03  ...       1.520000e+03  1.512000e+03  -5.000000e+00   \n",
            "75%    1.754000e+03  ...       1.918000e+03  1.917000e+03   8.000000e+00   \n",
            "max    2.400000e+03  ...       2.400000e+03  2.400000e+03   1.971000e+03   \n",
            "\n",
            "           DIVERTED     CANCELLED  AIR_SYSTEM_DELAY  SECURITY_DELAY  \\\n",
            "count  5.819079e+06  5.819079e+06      1.063439e+06    1.063439e+06   \n",
            "mean   2.609863e-03  1.544643e-02      1.348057e+01    7.615387e-02   \n",
            "std    5.102012e-02  1.233201e-01      2.800368e+01    2.143460e+00   \n",
            "min    0.000000e+00  0.000000e+00      0.000000e+00    0.000000e+00   \n",
            "25%    0.000000e+00  0.000000e+00      0.000000e+00    0.000000e+00   \n",
            "50%    0.000000e+00  0.000000e+00      2.000000e+00    0.000000e+00   \n",
            "75%    0.000000e+00  0.000000e+00      1.800000e+01    0.000000e+00   \n",
            "max    1.000000e+00  1.000000e+00      1.134000e+03    5.730000e+02   \n",
            "\n",
            "       AIRLINE_DELAY  LATE_AIRCRAFT_DELAY  WEATHER_DELAY  \n",
            "count   1.063439e+06         1.063439e+06   1.063439e+06  \n",
            "mean    1.896955e+01         2.347284e+01   2.915290e+00  \n",
            "std     4.816164e+01         4.319702e+01   2.043334e+01  \n",
            "min     0.000000e+00         0.000000e+00   0.000000e+00  \n",
            "25%     0.000000e+00         0.000000e+00   0.000000e+00  \n",
            "50%     2.000000e+00         3.000000e+00   0.000000e+00  \n",
            "75%     1.900000e+01         2.900000e+01   0.000000e+00  \n",
            "max     1.971000e+03         1.331000e+03   1.211000e+03  \n",
            "\n",
            "[8 rows x 26 columns]\n"
          ]
        }
      ]
    },
    {
      "cell_type": "markdown",
      "source": [
        "# **Cleaning Data**"
      ],
      "metadata": {
        "id": "I-PkGLh9S8tR"
      }
    },
    {
      "cell_type": "markdown",
      "source": [
        "## Removing Unwanted Columns"
      ],
      "metadata": {
        "id": "dGy8OcYETF1N"
      }
    },
    {
      "cell_type": "code",
      "source": [
        "columns_to_drop = ['TAIL_NUMBER', 'CANCELLATION_REASON', 'SECURITY_DELAY','FLIGHT_NUMBER','WHEELS_OFF','WHEELS_ON','TAXI_OUT','TAXI_IN','ELAPSED_TIME','AIR_TIME','SCHEDULED_TIME','DISTANCE']  # Adjust as needed\n",
        "df = df.drop(columns=columns_to_drop, errors='ignore')\n"
      ],
      "metadata": {
        "id": "8gs93iljQfdn"
      },
      "execution_count": 31,
      "outputs": []
    },
    {
      "cell_type": "markdown",
      "source": [
        "## Handle Missing Values"
      ],
      "metadata": {
        "id": "8IoZBgpVTRr5"
      }
    },
    {
      "cell_type": "code",
      "source": [
        "df = df.fillna(0)"
      ],
      "metadata": {
        "id": "XTF-HhmeR7iR"
      },
      "execution_count": 32,
      "outputs": []
    },
    {
      "cell_type": "markdown",
      "source": [
        "## Remove Duplicates"
      ],
      "metadata": {
        "id": "DmBq6_34TdW9"
      }
    },
    {
      "cell_type": "code",
      "source": [
        "df = df.drop_duplicates()"
      ],
      "metadata": {
        "id": "7JLz_O4zS1HZ"
      },
      "execution_count": 33,
      "outputs": []
    },
    {
      "cell_type": "markdown",
      "source": [
        "# **Merge Lookup Tables**"
      ],
      "metadata": {
        "id": "dPaIxxu9TpP5"
      }
    },
    {
      "cell_type": "code",
      "source": [
        "# Merge airline codes using 'AIRLINE' from df and 'IATA_CODE' from airlines\n",
        "df = df.merge(airlines, left_on='AIRLINE', right_on='IATA_CODE', how='left')\n",
        "\n",
        "# Merge airport codes using 'ORIGIN_AIRPORT' and 'DESTINATION_AIRPORT' from df and 'IATA_CODE' from airports\n",
        "df = df.merge(airports, left_on='ORIGIN_AIRPORT', right_on='IATA_CODE', how='left', suffixes=('', '_origin'))\n",
        "df = df.merge(airports, left_on='DESTINATION_AIRPORT', right_on='IATA_CODE', how='left', suffixes=('', '_dest'))"
      ],
      "metadata": {
        "id": "FdbVTp1JS3tM"
      },
      "execution_count": 34,
      "outputs": []
    },
    {
      "cell_type": "markdown",
      "source": [
        "# **Feature Engineering / Transforming Data**"
      ],
      "metadata": {
        "id": "oQWXILH8VTRi"
      }
    },
    {
      "cell_type": "markdown",
      "source": [
        "## Convert Data Types"
      ],
      "metadata": {
        "id": "xsq3FOmZWafK"
      }
    },
    {
      "cell_type": "code",
      "source": [
        "df['DATE'] = pd.to_datetime(df[['YEAR', 'MONTH', 'DAY']])"
      ],
      "metadata": {
        "id": "JIjnwJWDVXFZ"
      },
      "execution_count": 37,
      "outputs": []
    },
    {
      "cell_type": "markdown",
      "source": [
        "## Create/Modify Columns"
      ],
      "metadata": {
        "id": "uvXkmjI4Wcsc"
      }
    },
    {
      "cell_type": "code",
      "source": [
        "df['TOTAL_DELAY'] = df['DEPARTURE_DELAY'] + df['ARRIVAL_DELAY']\n"
      ],
      "metadata": {
        "id": "EOWOGA1oWSTS"
      },
      "execution_count": 38,
      "outputs": []
    },
    {
      "cell_type": "markdown",
      "source": [
        "# **Analyze or Visualize**"
      ],
      "metadata": {
        "id": "_qVrIC9AWoD9"
      }
    },
    {
      "cell_type": "code",
      "source": [
        "import matplotlib.pyplot as plt\n",
        "\n",
        "df['TOTAL_DELAY'].hist(bins=50)\n",
        "plt.xlabel('Total Delay (minutes)')\n",
        "plt.ylabel('Number of Flights')\n",
        "plt.title('Distribution of Flight Delays')\n",
        "plt.show()\n"
      ],
      "metadata": {
        "colab": {
          "base_uri": "https://localhost:8080/",
          "height": 472
        },
        "id": "yii-58xbWsob",
        "outputId": "cfa1e320-11ab-4978-8b87-6c7c981949c7"
      },
      "execution_count": 39,
      "outputs": [
        {
          "output_type": "display_data",
          "data": {
            "text/plain": [
              "<Figure size 640x480 with 1 Axes>"
            ],
            "image/png": "[encoded data removed]"
          },
          "metadata": {}
        }
      ]
    },
    {
      "cell_type": "code",
      "source": [
        "df.to_csv('/content/cleaned_data.csv', index=False)\n"
      ],
      "metadata": {
        "id": "5V9q5u95XQE9"
      },
      "execution_count": 40,
      "outputs": []
    }
  ]
}